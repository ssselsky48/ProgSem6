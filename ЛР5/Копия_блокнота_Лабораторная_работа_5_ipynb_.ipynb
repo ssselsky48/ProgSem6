{
  "nbformat": 4,
  "nbformat_minor": 0,
  "metadata": {
    "colab": {
      "name": "Копия блокнота \"Лабораторная работа 5.ipynb\"",
      "provenance": [],
      "collapsed_sections": []
    },
    "kernelspec": {
      "name": "python3",
      "display_name": "Python 3"
    },
    "language_info": {
      "name": "python"
    }
  },
  "cells": [
    {
      "cell_type": "markdown",
      "source": [
        "# Лабораторная работа 5\n",
        "\n",
        "Решение задачи регрессии.\n",
        "\n",
        "Есть файл web_traffic.tsv, который представляет статистику посещений веб-сервера компании и нашей задачей является предсказание значения посещения, для того, чтобы выделить в нужный момент времени дополнительную мощность сервера и не допустить его перегрузки.\n",
        "\n",
        "Слева находится индекс или номер часа по порядку, в который производился замер посещаемости, а справа - количество запросов сайта за этот час."
      ],
      "metadata": {
        "id": "txirHnm6Faia"
      }
    },
    {
      "cell_type": "code",
      "execution_count": 1,
      "metadata": {
        "id": "bSyp5zf7Egid"
      },
      "outputs": [],
      "source": [
        "import pandas as pd\n",
        "import scipy as sp\n",
        "\n",
        "import matplotlib.pyplot as plt"
      ]
    },
    {
      "cell_type": "code",
      "source": [
        "%matplotlib inline"
      ],
      "metadata": {
        "id": "p2BGJ5WWIgp5"
      },
      "execution_count": 2,
      "outputs": []
    },
    {
      "cell_type": "code",
      "source": [
        "data = pd.read_csv('web_traffic.tsv',delimiter='\\t',names=[\"hour\", \"requests\"])\n",
        "\n",
        "# dropna() - удаляет значения NaN\n",
        "data = data.dropna()\n",
        "target_var_name = 'requests'\n",
        "\n",
        "\n",
        "hours_data = data['hour']\n",
        "requests_data = data[target_var_name]\n",
        "\n",
        "import numpy as np\n",
        "from numpy import isnan\n",
        "\n",
        "requests_data.head()"
      ],
      "metadata": {
        "colab": {
          "base_uri": "https://localhost:8080/"
        },
        "id": "iYqVksZSJHbf",
        "outputId": "807babcb-7d85-4bbd-ac63-721f198f4ebf"
      },
      "execution_count": 13,
      "outputs": [
        {
          "output_type": "execute_result",
          "data": {
            "text/plain": [
              "0    2272.0\n",
              "2    1386.0\n",
              "3    1365.0\n",
              "4    1488.0\n",
              "5    1337.0\n",
              "Name: requests, dtype: float64"
            ]
          },
          "metadata": {},
          "execution_count": 13
        }
      ]
    },
    {
      "cell_type": "code",
      "source": [
        "plt.scatter(hours_data, requests_data, s=3)\n",
        "plt.title('Трафик веб-сайта за последний месяц')\n",
        "\n",
        "plt.xlabel('время')\n",
        "plt.ylabel('запросы/час')\n",
        "\n",
        "plt.xticks([w*7*24 for w in range(10)],[\"неделя %i\" %w for w in range(10)])\n",
        "plt.autoscale(tight=False)\n",
        "\n",
        "plt.grid(True, linestyle='-', color='0.8')\n",
        "plt.show()"
      ],
      "metadata": {
        "colab": {
          "base_uri": "https://localhost:8080/",
          "height": 295
        },
        "id": "uFpCAHDFOGgI",
        "outputId": "1e56f5de-e055-433b-e212-83b23d231e2c"
      },
      "execution_count": 14,
      "outputs": [
        {
          "output_type": "display_data",
          "data": {
            "text/plain": [
              "<Figure size 432x288 with 1 Axes>"
            ],
            "image/png": "[encoded data removed]"
          },
          "metadata": {
            "needs_background": "light"
          }
        }
      ]
    },
    {
      "cell_type": "code",
      "source": [
        "def error(f,x,y):\n",
        "    return np.sum((f(x)-y)**2)"
      ],
      "metadata": {
        "id": "-iKtFuRLSyGi"
      },
      "execution_count": 15,
      "outputs": []
    },
    {
      "cell_type": "code",
      "source": [
        "# два предположения по поводу тренда: \n",
        "\n",
        "# 1 - предполагаем один тренд линейный или степенной тренд\n",
        "# 2 - не один тренд, а два - линейных или один линейный, а второй - степенной\n",
        "# где-то по границе 3.5 недели\n",
        "\n",
        "f1p, residuals, rank, sv, rcond = np.polyfit(hours_data, requests_data, 1, full=True)\n",
        "print(\"Параметры модели {}\".format(f1p))"
      ],
      "metadata": {
        "colab": {
          "base_uri": "https://localhost:8080/"
        },
        "id": "wFH1EeDbVBKx",
        "outputId": "fa9ac367-b48d-4872-944a-c9b2ffc5efec"
      },
      "execution_count": 16,
      "outputs": [
        {
          "output_type": "stream",
          "name": "stdout",
          "text": [
            "Параметры модели [  2.59619213 989.02487106]\n"
          ]
        }
      ]
    },
    {
      "cell_type": "code",
      "source": [
        "f1 = np.poly1d(f1p)\n",
        "print(f\"{error(f1, hours_data, requests_data):.5}\")"
      ],
      "metadata": {
        "colab": {
          "base_uri": "https://localhost:8080/"
        },
        "id": "2nMGraRxWz6T",
        "outputId": "19898f71-c6c8-44e7-b273-603fb87b6c78"
      },
      "execution_count": 17,
      "outputs": [
        {
          "output_type": "stream",
          "name": "stdout",
          "text": [
            "3.1739e+08\n"
          ]
        }
      ]
    },
    {
      "cell_type": "markdown",
      "source": [
        "Таким образом, наша модель будет выглядеть следующим образом:\n",
        "```\n",
        "    f(x) = 2.59619213 * x + 989.02487106\n",
        "```\n",
        "MSE = 3.1739e+08"
      ],
      "metadata": {
        "id": "CdgYPN2TWoqe"
      }
    },
    {
      "cell_type": "code",
      "source": [
        "plt.title('Трафик веб-сайта за последний месяц')\n",
        "plt.xlabel('время')\n",
        "plt.ylabel('запросы/час')\n",
        "plt.xticks([w*7*24 for w in range(10)],[\"неделя %i\" %w for w in range(10)])\n",
        "plt.autoscale(tight=False)\n",
        "plt.grid(True, linestyle='-', color='0.8')\n",
        "\n",
        "# визуализация данных\n",
        "plt.scatter(hours_data, requests_data, s=3)\n",
        "\n",
        "# отобразим модель #1 \n",
        "f1x = np.linspace(0, hours_data[len(hours_data)], len(hours_data))\n",
        "f1y = f1(f1x)\n",
        "plt.plot(f1x, f1y, linewidth=1.0, color='red')\n",
        "\n",
        "plt.show()"
      ],
      "metadata": {
        "colab": {
          "base_uri": "https://localhost:8080/",
          "height": 295
        },
        "id": "VnOnyo_iXvmg",
        "outputId": "481f0129-7ee8-4119-cf6d-072f4041f70f"
      },
      "execution_count": 18,
      "outputs": [
        {
          "output_type": "display_data",
          "data": {
            "text/plain": [
              "<Figure size 432x288 with 1 Axes>"
            ],
            "image/png": "[encoded data removed]"
          },
          "metadata": {
            "needs_background": "light"
          }
        }
      ]
    },
    {
      "cell_type": "markdown",
      "source": [
        "## Самостоятельная работа (~ 20 минут)\n",
        "\n",
        "1. Реализовать модели степени полинома 2, 3, 5, 10, 20\n",
        "2. Посчитать для каждой из них метрику ошибки MSE и дать характеристику того, что получилось.\n",
        "3. Визуализировать каждую модель на графике так, чтобы это было отображено на одной координатной плоскости.\n",
        "\n",
        "\n",
        "В дискорде в личном сообщении написать в качестве ответа следующее: \n",
        "\n",
        "1. Параметры модели (вектор чисел) x5 (для каждой модели)\n",
        "2. Метрику MSE (x5) для каждой модели.\n",
        "3. Скриншот с графиками: 7 графиков (scatterplot (done), линия для степени полинома 1 (done), график для степени полинома 2, 3, 5, 10, 20)\n",
        "\n",
        "Цвета для графиков степеней полинома: \n",
        "- 1 - black\n",
        "- 2 - blue\n",
        "- 3 - lime\n",
        "- 5 - magenta\n",
        "- 10 - cyan\n",
        "- 20 - red"
      ],
      "metadata": {
        "id": "4NErd79AaOBs"
      }
    },
    {
      "cell_type": "code",
      "source": [
        "# создание моделей степени полинома 2, 3, ... 20\n",
        "f2p, residuals, rank, sv, rcond = np.polyfit(hours_data, requests_data, 2, full=True)\n",
        "f2 = np.poly1d(f2p)\n",
        "print(\"Параметры модели 2 (степень полинома 2) {}\".format(f2p))\n",
        "print(f\"MSE = {error(f2, hours_data, requests_data):.5}\")\n",
        "\n",
        "f3p, residuals, rank, sv, rcond = np.polyfit(hours_data, requests_data, 3, full=True)\n",
        "f3 = np.poly1d(f3p)\n",
        "print(\"Параметры модели 3 (степень полинома 3) {}\".format(f3p))\n",
        "print(f\"MSE = {error(f3, hours_data, requests_data):.5}\")\n",
        "\n",
        "f5p, residuals, rank, sv, rcond = np.polyfit(hours_data, requests_data, 5, full=True)\n",
        "f5 = np.poly1d(f5p)\n",
        "print(\"Параметры модели 5 (степень полинома 5) {}\".format(f5p))\n",
        "print(f\"MSE = {error(f5, hours_data, requests_data):.5}\")\n",
        "\n",
        "f10p, residuals, rank, sv, rcond = np.polyfit(hours_data, requests_data, 10, full=True)\n",
        "f10 = np.poly1d(f10p)\n",
        "print(\"Параметры модели 10 (степень полинома 10) {}\".format(f10p))\n",
        "print(f\"MSE = {error(f10, hours_data, requests_data):.5}\")\n",
        "\n",
        "f20p, residuals, rank, sv, rcond = np.polyfit(hours_data, requests_data, 20, full=True)\n",
        "f20 = np.poly1d(f20p)\n",
        "print(\"Параметры модели 20 (степень полинома 20) {}\".format(f20p))\n",
        "print(f\"MSE = {error(f20, hours_data, requests_data):.5}\")"
      ],
      "metadata": {
        "colab": {
          "base_uri": "https://localhost:8080/"
        },
        "id": "bNl6fbvalvfh",
        "outputId": "8887f81c-fdb4-4f1a-cdb5-7c238ecef87e"
      },
      "execution_count": 19,
      "outputs": [
        {
          "output_type": "stream",
          "name": "stdout",
          "text": [
            "Параметры модели 2 (степень полинома 2) [ 1.05322215e-02 -5.26545650e+00  1.97476082e+03]\n",
            "MSE = 1.7998e+08\n",
            "Параметры модели 3 (степень полинома 3) [ 3.04960132e-05 -2.35893797e-02  4.94226019e+00  1.33328797e+03]\n",
            "MSE = 1.3935e+08\n",
            "Параметры модели 5 (степень полинома 5) [ 2.16470951e-10 -3.13405153e-07  1.63844797e-04 -3.41497485e-02\n",
            "  2.24785575e+00  1.53616050e+03]\n",
            "MSE = 1.2446e+08\n",
            "Параметры модели 10 (степень полинома 10) [-3.73981968e-22  1.36473756e-18 -2.14294406e-15  1.89884971e-12\n",
            " -1.04570108e-09  3.70867731e-07 -8.45604588e-05  1.19167041e-02\n",
            " -9.41618606e-01  3.33703840e+01  1.26421204e+03]\n",
            "MSE = 1.2194e+08\n",
            "Параметры модели 20 (степень полинома 20) [ 4.83090666e-47 -3.18254288e-43  8.87216773e-40 -1.31484635e-36\n",
            "  9.87793047e-34 -8.55503070e-32 -5.09644269e-28  3.80311873e-25\n",
            "  4.98732305e-23 -2.74831025e-19  2.35473549e-16 -1.17298303e-13\n",
            "  3.93132320e-11 -9.23453278e-09  1.52942330e-06 -1.76098283e-04\n",
            "  1.36396780e-02 -6.69561733e-01  1.86541701e+01 -2.35174285e+02\n",
            "  2.33820200e+03]\n",
            "MSE = 1.1053e+08\n"
          ]
        }
      ]
    },
    {
      "cell_type": "code",
      "source": [
        "plt.title('Трафик веб-сайта за последний месяц')\n",
        "plt.xlabel('время')\n",
        "plt.ylabel('запросы/час')\n",
        "plt.xticks([w*7*24 for w in range(10)],[\"неделя %i\" %w for w in range(10)])\n",
        "plt.autoscale(tight=False)\n",
        "plt.grid(True, linestyle='-', color='0.8')\n",
        "\n",
        "# визуализация данных\n",
        "plt.scatter(hours_data, requests_data, s=3)\n",
        "\n",
        "# отобразим модель #1 (степень полинома 1)\n",
        "fx = np.linspace(0, hours_data[len(hours_data)], len(hours_data))\n",
        "f1y = f1(fx)\n",
        "plt.plot(fx, f1y, linewidth=1.0, color='black')\n",
        "\n",
        "# отобразим модель #2 (степень полинома 2)\n",
        "f2y = f2(fx)\n",
        "plt.plot(fx, f2y, linewidth=1.0, color='blue')\n",
        "\n",
        "# отобразим модель #3 (степень полинома 3)\n",
        "f3y = f3(fx)\n",
        "plt.plot(fx, f3y, linewidth=1.0, color='lime')\n",
        "\n",
        "# отобразим модель #5 (степень полинома 5)\n",
        "f5y = f5(f1x)\n",
        "plt.plot(f1x, f5y, linewidth=2.0, color='magenta')\n",
        "\n",
        "# отобразим модель #10 (степень полинома 10)\n",
        "f10y = f10(f1x)\n",
        "plt.plot(f1x, f10y, linewidth=2.0, color='cyan')\n",
        "\n",
        "# отобразим модель #20 (степень полинома 20)\n",
        "f20y = f20(f1x)\n",
        "plt.plot(f1x, f20y, linewidth=2.0, color='red')\n",
        "\n",
        "\n",
        "plt.show()"
      ],
      "metadata": {
        "colab": {
          "base_uri": "https://localhost:8080/",
          "height": 295
        },
        "id": "fGtUmUgFl--o",
        "outputId": "2cd4e904-8a33-44fa-a77d-b1c8c6ffb24d"
      },
      "execution_count": 20,
      "outputs": [
        {
          "output_type": "display_data",
          "data": {
            "text/plain": [
              "<Figure size 432x288 with 1 Axes>"
            ],
            "image/png": "[encoded data removed]"
          },
          "metadata": {
            "needs_background": "light"
          }
        }
      ]
    },
    {
      "cell_type": "code",
      "source": [
        "divider = int(3.5*7*24)\n",
        "divider2 = int(4.1*7*24)\n",
        "print(divider, divider2)\n",
        "# print(hours_data.shape)\n",
        "hours_data_1, requests_data_1 = hours_data[:divider], requests_data[:divider]\n",
        "hours_data_2, requests_data_2 = hours_data[divider:], requests_data[divider:]\n",
        "\n",
        "hours_data_test, requests_data_test = hours_data[divider2:], requests_data[divider2:]\n",
        "\n",
        "print(requests_data_1.shape, requests_data_2.shape, requests_data_test.shape)"
      ],
      "metadata": {
        "colab": {
          "base_uri": "https://localhost:8080/"
        },
        "id": "N4nqgS5Wo3r7",
        "outputId": "75c8e9a7-c5b7-421b-a0a7-520f4e64d0f2"
      },
      "execution_count": 31,
      "outputs": [
        {
          "output_type": "stream",
          "name": "stdout",
          "text": [
            "588 688\n",
            "(588,) (147,) (47,)\n"
          ]
        }
      ]
    },
    {
      "cell_type": "code",
      "source": [
        "f3p, residuals, rank, sv, rcond = np.polyfit(hours_data_1, requests_data_1, 3, full=True)\n",
        "f3 = np.poly1d(f3p)\n",
        "print(f\"MSE (для данных ДО 3.5 недели)= {error(f3, hours_data_1, requests_data_1):.5}\")\n",
        "print(f\"MSE (только для данных с 3.5 недели)= {error(f3, hours_data_2, requests_data_2):.5}\")"
      ],
      "metadata": {
        "colab": {
          "base_uri": "https://localhost:8080/"
        },
        "id": "PEcG8Bs6r_eb",
        "outputId": "8f2a9cc0-5e17-465c-8a21-93e7272209a5"
      },
      "execution_count": 32,
      "outputs": [
        {
          "output_type": "stream",
          "name": "stdout",
          "text": [
            "MSE (для данных ДО 3.5 недели)= 1.0159e+08\n",
            "MSE (только для данных с 3.5 недели)= 8.4713e+07\n"
          ]
        }
      ]
    },
    {
      "cell_type": "code",
      "source": [
        "f20p, residuals, rank, sv, rcond = np.polyfit(hours_data_2, requests_data_2, 20, full=True)\n",
        "f20 = np.poly1d(f20p)\n",
        "print(f\"MSE (для данных c 3.5 недели по 4.1 недели)= {error(f20, hours_data_test, requests_data_test):.5}\")\n",
        "print(f\"MSE (только для данных с 3.5 недели)= {error(f20, hours_data_2, requests_data_2):.5}\")"
      ],
      "metadata": {
        "colab": {
          "base_uri": "https://localhost:8080/"
        },
        "id": "8XA3mCjUtyOi",
        "outputId": "04f684d4-0c9a-4141-f543-ca8fb8a19bd6"
      },
      "execution_count": 46,
      "outputs": [
        {
          "output_type": "stream",
          "name": "stdout",
          "text": [
            "MSE (для данных c 3.5 недели по 4.1 недели)= 7.8668e+06\n",
            "MSE (только для данных с 3.5 недели)= 1.876e+07\n"
          ]
        }
      ]
    },
    {
      "cell_type": "markdown",
      "source": [
        "# Ответить на вопрос\n",
        "\n",
        "Какая модель для гипотезы, при которой весь набор данных представляет собой два диапазона значений (от 0 недели до 3.5 недели и с 3.5 недели до конца), подходит наилучшим образом?\n",
        "Модель, в данном случае, это степень полинома. \n",
        "Мы уже знаем (см. ячейку выше), что степень полинома 20 плохо подходит для тестовых данных (hours_data_test и requests_data_test) потому что ошибка для тестовых данных на 9 порядков выше, чем ошибка для тренировочного набора данных."
      ],
      "metadata": {
        "id": "4ZGwmyyIxD-i"
      }
    },
    {
      "cell_type": "markdown",
      "source": [
        "# Решение"
      ],
      "metadata": {
        "id": "KfW4V5ZOeW4I"
      }
    },
    {
      "cell_type": "code",
      "source": [
        "# 1 степень\n",
        "f1p, residuals, rank, sv, rcond = np.polyfit(hours_data_1, requests_data_1, 1, full=True) # обучаем модель на 1 степени полинома\n",
        "f1 = np.poly1d(f1p) # находим параметры модели\n",
        "\n",
        "before_err = error(f1, hours_data_1, requests_data_1) # вычисляем ошибку в первом диапазоне\n",
        "after_err = error(f1, hours_data_2, requests_data_2) # вычисляем ошибку во втором диапазоне\n",
        "\n",
        "print(f\"Степень: 1\")\n",
        "# выводим ошибки\n",
        "print(f\"MSE (для данных ДО 3.5 недели) = {before_err:.5}\")\n",
        "print(f\"MSE (только данных с 3.5 недели) = {after_err:.5}\")\n",
        "\n",
        "# находим разницу ошибок\n",
        "print(f\"Разница MSE: {(after_err - before_err):.5}\\n\")"
      ],
      "metadata": {
        "colab": {
          "base_uri": "https://localhost:8080/"
        },
        "id": "xa8c0vJmYohr",
        "outputId": "4d7af3d7-ff50-4972-be00-2bd038cccc4f"
      },
      "execution_count": 34,
      "outputs": [
        {
          "output_type": "stream",
          "name": "stdout",
          "text": [
            "Степень: 1\n",
            "MSE (для данных ДО 3.5 недели) = 1.1081e+08\n",
            "MSE (только данных с 3.5 недели) = 3.551e+08\n",
            "Разница MSE: 2.4429e+08\n",
            "\n"
          ]
        }
      ]
    },
    {
      "cell_type": "code",
      "source": [
        "# 2 степень\n",
        "f2p, residuals, rank, sv, rcond = np.polyfit(hours_data_1, requests_data_1, 2, full=True)\n",
        "f2 = np.poly1d(f2p)\n",
        "\n",
        "before_err = error(f2, hours_data_1, requests_data_1)\n",
        "after_err = error(f2, hours_data_2, requests_data_2)\n",
        "\n",
        "print(f\"Степень: 2\")\n",
        "print(f\"MSE (для данных ДО 3.5 недели) = {before_err:.5}\")\n",
        "print(f\"MSE (только данных с 3.5 недели) = {after_err:.5}\")\n",
        "print(f\"Разница MSE: {(after_err - before_err):.5}\\n\")"
      ],
      "metadata": {
        "colab": {
          "base_uri": "https://localhost:8080/"
        },
        "id": "vAVAS1EkffWn",
        "outputId": "d2497414-a197-4374-ea7b-739d61e2244e"
      },
      "execution_count": 36,
      "outputs": [
        {
          "output_type": "stream",
          "name": "stdout",
          "text": [
            "Степень: 2\n",
            "MSE (для данных ДО 3.5 недели) = 1.0282e+08\n",
            "MSE (только данных с 3.5 недели) = 1.8116e+08\n",
            "Разница MSE: 7.8346e+07\n",
            "\n"
          ]
        }
      ]
    },
    {
      "cell_type": "code",
      "source": [
        "# 3 степень\n",
        "f3p, residuals, rank, sv, rcond = np.polyfit(hours_data_1, requests_data_1, 3, full=True)\n",
        "f3 = np.poly1d(f3p)\n",
        "\n",
        "before_err = error(f3, hours_data_1, requests_data_1)\n",
        "after_err = error(f3, hours_data_2, requests_data_2)\n",
        "\n",
        "print(f\"Степень: 3\")\n",
        "print(f\"MSE (для данных ДО 3.5 недели) = {before_err:.5}\")\n",
        "print(f\"MSE (только данных с 3.5 недели) = {after_err:.5}\")\n",
        "print(f\"Разница MSE: {(after_err - before_err):.5}\\n\")"
      ],
      "metadata": {
        "colab": {
          "base_uri": "https://localhost:8080/"
        },
        "id": "t9-BrIRcffm_",
        "outputId": "7a140275-0eca-41ef-f58f-e42783860891"
      },
      "execution_count": 37,
      "outputs": [
        {
          "output_type": "stream",
          "name": "stdout",
          "text": [
            "Степень: 3\n",
            "MSE (для данных ДО 3.5 недели) = 1.0159e+08\n",
            "MSE (только данных с 3.5 недели) = 8.4713e+07\n",
            "Разница MSE: -1.6873e+07\n",
            "\n"
          ]
        }
      ]
    },
    {
      "cell_type": "code",
      "source": [
        "# 4 степень\n",
        "f4p, residuals, rank, sv, rcond = np.polyfit(hours_data_1, requests_data_1, 4, full=True)\n",
        "f4 = np.poly1d(f4p)\n",
        "\n",
        "before_err = error(f4, hours_data_1, requests_data_1)\n",
        "after_err = error(f4, hours_data_2, requests_data_2)\n",
        "\n",
        "print(f\"Степень: 4\")\n",
        "print(f\"MSE (для данных ДО 3.5 недели) = {before_err:.5}\")\n",
        "print(f\"MSE (только данных с 3.5 недели) = {after_err:.5}\")\n",
        "print(f\"Разница MSE: {(after_err - before_err):.5}\\n\")"
      ],
      "metadata": {
        "colab": {
          "base_uri": "https://localhost:8080/"
        },
        "id": "OOk5vQlpffBR",
        "outputId": "8cc83da7-a6b9-44fd-98cc-fee3681a0ab2"
      },
      "execution_count": 38,
      "outputs": [
        {
          "output_type": "stream",
          "name": "stdout",
          "text": [
            "Степень: 4\n",
            "MSE (для данных ДО 3.5 недели) = 1.0117e+08\n",
            "MSE (только данных с 3.5 недели) = 3.1047e+07\n",
            "Разница MSE: -7.0123e+07\n",
            "\n"
          ]
        }
      ]
    },
    {
      "cell_type": "code",
      "source": [
        "# 5 степень\n",
        "f5p, residuals, rank, sv, rcond = np.polyfit(hours_data_1, requests_data_1, 5, full=True)\n",
        "f5 = np.poly1d(f5p)\n",
        "\n",
        "before_err = error(f5, hours_data_1, requests_data_1)\n",
        "after_err = error(f5, hours_data_2, requests_data_2)\n",
        "\n",
        "print(f\"Степень: 5\")\n",
        "print(f\"MSE (для данных ДО 3.5 недели) = {before_err:.5}\")\n",
        "print(f\"MSE (только данных с 3.5 недели) = {after_err:.5}\")\n",
        "print(f\"Разница MSE: {(after_err - before_err):.5}\\n\")"
      ],
      "metadata": {
        "colab": {
          "base_uri": "https://localhost:8080/"
        },
        "id": "fVM7jGVAffHo",
        "outputId": "45179bc0-a7ec-4e33-a6e7-4cbb9824b2af"
      },
      "execution_count": 39,
      "outputs": [
        {
          "output_type": "stream",
          "name": "stdout",
          "text": [
            "Степень: 5\n",
            "MSE (для данных ДО 3.5 недели) = 1.0116e+08\n",
            "MSE (только данных с 3.5 недели) = 4.1021e+07\n",
            "Разница MSE: -6.014e+07\n",
            "\n"
          ]
        }
      ]
    },
    {
      "cell_type": "code",
      "source": [
        "# 10 степень\n",
        "f10p, residuals, rank, sv, rcond = np.polyfit(hours_data_1, requests_data_1, 10, full=True)\n",
        "f10 = np.poly1d(f10p)\n",
        "\n",
        "before_err = error(f10, hours_data_1, requests_data_1)\n",
        "after_err = error(f10, hours_data_2, requests_data_2)\n",
        "\n",
        "print(f\"Степень: 10\")\n",
        "print(f\"MSE (для данных ДО 3.5 недели) = {before_err:.5}\")\n",
        "print(f\"MSE (только данных с 3.5 недели) = {after_err:.5}\")\n",
        "print(f\"Разница MSE: {(after_err - before_err):.5}\\n\")"
      ],
      "metadata": {
        "colab": {
          "base_uri": "https://localhost:8080/"
        },
        "id": "y_IbbHChffOF",
        "outputId": "fae74178-46b4-4684-9a4a-8d1d88560200"
      },
      "execution_count": 44,
      "outputs": [
        {
          "output_type": "stream",
          "name": "stdout",
          "text": [
            "Степень: 10\n",
            "MSE (для данных ДО 3.5 недели) = 9.3236e+07\n",
            "MSE (только данных с 3.5 недели) = 2.1939e+13\n",
            "Разница MSE: 2.1939e+13\n",
            "\n"
          ]
        }
      ]
    },
    {
      "cell_type": "code",
      "source": [
        "# 20 степень\n",
        "f20p, residuals, rank, sv, rcond = np.polyfit(hours_data_1, requests_data_1, 20, full=True)\n",
        "f20 = np.poly1d(f20p)\n",
        "\n",
        "before_err = error(f20, hours_data_1, requests_data_1)\n",
        "after_err = error(f20, hours_data_2, requests_data_2)\n",
        "\n",
        "print(f\"Степень: 20\")\n",
        "print(f\"MSE (для данных ДО 3.5 недели) = {before_err:.5}\")\n",
        "print(f\"MSE (только данных с 3.5 недели) = {after_err:.5}\")\n",
        "print(f\"Разница MSE: {(after_err - before_err):.5}\\n\")"
      ],
      "metadata": {
        "colab": {
          "base_uri": "https://localhost:8080/"
        },
        "id": "uc-PzSuhffsN",
        "outputId": "42b42f3d-e45b-4153-92e8-e358c6b52a9d"
      },
      "execution_count": 45,
      "outputs": [
        {
          "output_type": "stream",
          "name": "stdout",
          "text": [
            "Степень: 20\n",
            "MSE (для данных ДО 3.5 недели) = 9.0578e+07\n",
            "MSE (только данных с 3.5 недели) = 2.4825e+17\n",
            "Разница MSE: 2.4825e+17\n",
            "\n"
          ]
        }
      ]
    },
    {
      "cell_type": "markdown",
      "source": [
        "# Ответ\n",
        "Лучше всего подойдёт модель с 4 степенью, так как ошибка тестовых данных там даже меньше, чем у входных, и эта разница максимальна среди остальных моделей"
      ],
      "metadata": {
        "id": "K7RrfJTakgGu"
      }
    }
  ]
}