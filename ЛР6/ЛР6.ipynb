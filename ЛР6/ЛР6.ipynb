{
  "nbformat": 4,
  "nbformat_minor": 0,
  "metadata": {
    "colab": {
      "name": "ЛР6.ipynb",
      "provenance": []
    },
    "kernelspec": {
      "name": "python3",
      "display_name": "Python 3"
    },
    "language_info": {
      "name": "python"
    }
  },
  "cells": [
    {
      "cell_type": "markdown",
      "source": [
        "# Подготовка данных"
      ],
      "metadata": {
        "id": "imCqjRyU3Kzk"
      }
    },
    {
      "cell_type": "markdown",
      "source": [
        "Загрузка данных из txt файла\n"
      ],
      "metadata": {
        "id": "Z-RksWLF0N9P"
      }
    },
    {
      "cell_type": "code",
      "execution_count": 12,
      "metadata": {
        "id": "Ekvx8ik4z97W"
      },
      "outputs": [],
      "source": [
        "import numpy as np\n",
        "import matplotlib.pyplot as plt\n",
        "\n",
        "# genfromtxt() - загрузка данных из txt файла\n",
        "# dtype - тип получаемых данных, в файле находятся целые числа\n",
        "# delimiter - разделитель, по которому данные будут группироваться, в данном случае запятая\n",
        "# skip_header - пропуск строчек в начале файла, нам нужно пропустить 1 строчку\n",
        "data = np.genfromtxt(\"ex1data2.txt\", dtype='uint64', delimiter=\",\", skip_header=1)\n",
        "\n",
        "# загрузка данных в разные списки\n",
        "square = data[:,0]\n",
        "rooms = data[:,1]\n",
        "cost = data[:,2]"
      ]
    },
    {
      "cell_type": "markdown",
      "source": [
        "Функция для вычисления ошибки"
      ],
      "metadata": {
        "id": "7wXIjVV-3CBo"
      }
    },
    {
      "cell_type": "code",
      "source": [
        "def error(f, x, y):\n",
        "    return np.sum((f(x)-y)**2)"
      ],
      "metadata": {
        "id": "69NyGu5e3EbC"
      },
      "execution_count": 4,
      "outputs": []
    },
    {
      "cell_type": "markdown",
      "source": [
        "# Ход выполнения задания"
      ],
      "metadata": {
        "id": "m9WmFFP_3HZV"
      }
    },
    {
      "cell_type": "markdown",
      "source": [
        "1. Визуализация данных"
      ],
      "metadata": {
        "id": "yPlyMUDn0_Qs"
      }
    },
    {
      "cell_type": "code",
      "source": [
        "# построение графика - отношение кол-ва комнат к стоимости\n",
        "plt.scatter(rooms, cost, s=10)\n",
        "\n",
        "# подписи графика\n",
        "plt.title('Отношение количества комнат к стоимости')\n",
        "plt.xlabel('Количество комнат')\n",
        "plt.ylabel('Стоимость')\n",
        "\n",
        "# значения по оси x - комнат может быть от 1 до 5 включительно\n",
        "plt.xticks([i for i in range(1, 6)])\n",
        "plt.show()"
      ],
      "metadata": {
        "colab": {
          "base_uri": "https://localhost:8080/",
          "height": 295
        },
        "outputId": "caf03980-3f8d-4ac9-c617-11d2e6133f38",
        "id": "gAODJ4YRib9I"
      },
      "execution_count": 13,
      "outputs": [
        {
          "output_type": "display_data",
          "data": {
            "text/plain": [
              "<Figure size 432x288 with 1 Axes>"
            ],
            "image/png": "[encoded data removed]"
          },
          "metadata": {
            "needs_background": "light"
          }
        }
      ]
    },
    {
      "cell_type": "markdown",
      "source": [
        "2. Линейная модель, которая учитывала бы только размер жилья"
      ],
      "metadata": {
        "id": "Cslr92Cd25fM"
      }
    },
    {
      "cell_type": "code",
      "source": [
        "# обучение модели\n",
        "f1p, residuals, rank, sv, rcond = np.polyfit(square, cost, 1, full=True)\n",
        "f1 = np.poly1d(f1p)\n",
        "# linspace - линейное пространство \n",
        "# аргументы - start, stop\n",
        "fx = np.linspace(0, max(square)) \n",
        "\n",
        "# визуализация модели\n",
        "plt.scatter(square, cost, s=10)\n",
        "plt.plot(fx, f1(fx), linewidth=1.0, color='r')\n",
        "plt.title('Отношение площади жилья к стоимости')\n",
        "plt.xlabel('Площадь')\n",
        "plt.ylabel('Стоимость')\n",
        "plt.show()\n",
        "\n",
        "\n",
        "print(f\"Ошибка модели: {error(f1, square, cost):.5}\")"
      ],
      "metadata": {
        "colab": {
          "base_uri": "https://localhost:8080/",
          "height": 312
        },
        "id": "AuBD5i6nhWXr",
        "outputId": "bc638817-331a-4226-9206-3e9082835a15"
      },
      "execution_count": 14,
      "outputs": [
        {
          "output_type": "display_data",
          "data": {
            "text/plain": [
              "<Figure size 432x288 with 1 Axes>"
            ],
            "image/png": "[encoded data removed]"
          },
          "metadata": {
            "needs_background": "light"
          }
        },
        {
          "output_type": "stream",
          "name": "stdout",
          "text": [
            "Ошибка модели: 1.9346e+11\n"
          ]
        }
      ]
    },
    {
      "cell_type": "markdown",
      "source": [
        "3. Полиномиальная модель (степени 2 и 3), учитывающая только размер жилья."
      ],
      "metadata": {
        "id": "SilKdG0k79Ma"
      }
    },
    {
      "cell_type": "code",
      "source": [
        "# Обучение моделей\n",
        "f2p, residuals, rank, sv, rcond = np.polyfit(square, cost, 2, full=True)\n",
        "f2 = np.poly1d(f2p)\n",
        "\n",
        "f3p, residuals, rank, sv, rcond = np.polyfit(square, cost, 3, full=True)\n",
        "f3 = np.poly1d(f3p)\n",
        "\n",
        "# визуализация моделей\n",
        "plt.scatter(square, cost, s=10)\n",
        "plt.plot(fx, f2(fx), linewidth=1.0, color='lime')\n",
        "plt.plot(fx, f3(fx), linewidth=1.0, color='blue')\n",
        "plt.title('Отношение площади жилья к стоимости')\n",
        "plt.xlabel('Площадь')\n",
        "plt.ylabel('Стоимость')\n",
        "plt.show()\n",
        "\n",
        "# вычисление ошибки\n",
        "print(f\"Ошибка модели (степень 2): {error(f2, square, cost):.5}\")\n",
        "print(f\"Ошибка модели (степень 3): {error(f3, square, cost):.5}\")"
      ],
      "metadata": {
        "colab": {
          "base_uri": "https://localhost:8080/",
          "height": 330
        },
        "outputId": "c01a9436-43c6-4142-bbdb-6bc97742ac39",
        "id": "SKXAYkzUjrAd"
      },
      "execution_count": 15,
      "outputs": [
        {
          "output_type": "display_data",
          "data": {
            "text/plain": [
              "<Figure size 432x288 with 1 Axes>"
            ],
            "image/png": "[encoded data removed]"
          },
          "metadata": {
            "needs_background": "light"
          }
        },
        {
          "output_type": "stream",
          "name": "stdout",
          "text": [
            "Ошибка модели (степень 2): 1.9342e+11\n",
            "Ошибка модели (степень 3): 1.8844e+11\n"
          ]
        }
      ]
    },
    {
      "cell_type": "markdown",
      "source": [
        "4. Линейная модель (с помощью scikit-learn), которая учитывала бы размер жилья и количество комнат"
      ],
      "metadata": {
        "id": "0VBPFYJg8jRB"
      }
    },
    {
      "cell_type": "code",
      "source": [
        "import pandas as pd\n",
        "from sklearn.linear_model import LinearRegression\n",
        "\n",
        "# для того, чтобы использовать множественную регрессию, сделаем DataFrame из двух списков - площадей и кол-ва комнат\n",
        "# для этого используем функцию zip, которая поможет создать список кортежей\n",
        "data = list(zip(square, rooms))\n",
        "\n",
        "# создаём DataFrame из полученных кортежей\n",
        "X = pd.DataFrame(data, columns = ['square', 'rooms'])\n",
        "Y = cost\n",
        "\n",
        "# создаём объект LinearRegression, с помощью которого посчитаем регрессию\n",
        "lin_reg = LinearRegression()\n",
        "# для обучения модели следует использовать метод fit\n",
        "# туда помещаем значения созданного DataFrame и цены\n",
        "lin_reg.fit(X.values, Y)\n",
        "\n",
        "# посчитаем ошибку данной модели\n",
        "# функция, с помощью которой будет считаться ошибка - predict, которая предсказывает значения\n",
        "# последующие аргументы - значения DataFrame и wtys\n",
        "print(f\"Ошибка данной модели: {error(lin_reg.predict, X.values, Y):.5}\")"
      ],
      "metadata": {
        "colab": {
          "base_uri": "https://localhost:8080/"
        },
        "id": "jcueWIyCxAhn",
        "outputId": "777545c9-a3bf-4df5-d380-25a52d68e70b"
      },
      "execution_count": 27,
      "outputs": [
        {
          "output_type": "stream",
          "name": "stdout",
          "text": [
            "Ошибка данной модели: 1.9207e+11\n"
          ]
        }
      ]
    },
    {
      "cell_type": "markdown",
      "source": [
        "5. Предскажите значения для двух объектах недвижимости с использованием этих трех моделей: 1650,3; 2200,4"
      ],
      "metadata": {
        "id": "8s-EH0ad_ptQ"
      }
    },
    {
      "cell_type": "code",
      "source": [
        "# Создадим DataFrame с тестовыми данными, для которых будут предсказываться значения цены\n",
        "# аналогично с DataFrame выше\n",
        "data = list(zip([1650, 2200], [3, 4]))\n",
        "test = pd.DataFrame(data)\n",
        "\n",
        "# результаты по линейной модели с учётом только размера\n",
        "predicted = f1(test.values)\n",
        "# нужные нам данные находятся по нулевому индексу в каждом из списков\n",
        "print(f\"Линейная модель с учётом только размера: {predicted[0][0]:.2f}, {predicted[1][0]:.2f}\")\n",
        "\n",
        "# результаты по модели второй степени\n",
        "predicted = f2(test.values)\n",
        "print(f\"Модель 2 степени: {predicted[0][0]:.2f}, {predicted[1][0]:.2f}\")\n",
        "\n",
        "# результаты по модели третьей степени\n",
        "predicted = f3(test.values)\n",
        "print(f\"Модель 3 степени: {predicted[0][0]:.2f}, {predicted[1][0]:.2f}\")\n",
        "\n",
        "# результаты по линейной модель, учитывающей размер и кол-во\n",
        "predicted = lin_reg.predict(test.values)\n",
        "print(f\"Множественная регрессия: {predicted[0]:.2f}, {predicted[1]:.2f}\")"
      ],
      "metadata": {
        "colab": {
          "base_uri": "https://localhost:8080/"
        },
        "id": "9A-S9jZl0yfe",
        "outputId": "649a0632-725e-4fb2-a354-ee60c6b962e7"
      },
      "execution_count": 28,
      "outputs": [
        {
          "output_type": "stream",
          "name": "stdout",
          "text": [
            "Линейная модель с учётом только размера: 293237.22, 367226.13\n",
            "Модель 2 степени: 293387.08, 368112.59\n",
            "Модель 3 степени: 285422.83, 365824.75\n",
            "Множественная регрессия: 293081.46, 360909.32\n"
          ]
        }
      ]
    },
    {
      "cell_type": "markdown",
      "source": [
        "**Опишите какая ошибка больше, а какая меньше и укажите причину**\n",
        "\n",
        "Наименьшая ошибка у модели третьей степени, так как обучение с большей степенью получилось более точным"
      ],
      "metadata": {
        "id": "TeIz3wpUByhB"
      }
    }
  ]
}